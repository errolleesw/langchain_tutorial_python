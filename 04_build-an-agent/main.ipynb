{
 "cells": [
  {
   "cell_type": "markdown",
   "metadata": {},
   "source": [
    "## Setup steps\n",
    "- Add TAVILY_API_KEY to `.env` file. You can get this from [Tavily AI](https://app.tavily.com/home).\n",
    "- Add Anthropic api key to `.env` file"
   ]
  },
  {
   "cell_type": "code",
   "execution_count": 5,
   "metadata": {},
   "outputs": [
    {
     "name": "stdout",
     "output_type": "stream",
     "text": [
      "{'agent': {'messages': [AIMessage(content=\"Hello Bob! Since you didn't ask a specific question, I don't need to use any of the tools for this response. It's nice to meet you. San Francisco is a beautiful city with lots to see and do. What are some of your favorite things about living there?\", response_metadata={'id': 'msg_01KcV9rcG2aiU6vuB8i9Ne8K', 'model': 'claude-3-sonnet-20240229', 'stop_reason': 'end_turn', 'stop_sequence': None, 'usage': {'input_tokens': 271, 'output_tokens': 60}}, id='run-b1fee727-0fca-46b3-8951-02ef2856d448-0', usage_metadata={'input_tokens': 271, 'output_tokens': 60, 'total_tokens': 331})]}}\n",
      "----\n",
      "{'agent': {'messages': [AIMessage(content=[{'text': 'To get the current weather for your location in San Francisco, I can use the search tool:', 'type': 'text'}, {'id': 'toolu_015zyugt7KpkgAXzxEhtBNcU', 'input': {'query': 'san francisco weather'}, 'name': 'tavily_search_results_json', 'type': 'tool_use'}], response_metadata={'id': 'msg_01Er7iqC5bpPaMwEHNrQdMrK', 'model': 'claude-3-sonnet-20240229', 'stop_reason': 'tool_use', 'stop_sequence': None, 'usage': {'input_tokens': 342, 'output_tokens': 80}}, id='run-16e8dade-3f8c-4d0b-a83c-73cb6b464657-0', tool_calls=[{'name': 'tavily_search_results_json', 'args': {'query': 'san francisco weather'}, 'id': 'toolu_015zyugt7KpkgAXzxEhtBNcU', 'type': 'tool_call'}], usage_metadata={'input_tokens': 342, 'output_tokens': 80, 'total_tokens': 422})]}}\n",
      "----\n",
      "{'tools': {'messages': [ToolMessage(content='[{\"url\": \"https://www.weatherapi.com/\", \"content\": \"{\\'location\\': {\\'name\\': \\'San Francisco\\', \\'region\\': \\'California\\', \\'country\\': \\'United States of America\\', \\'lat\\': 37.78, \\'lon\\': -122.42, \\'tz_id\\': \\'America/Los_Angeles\\', \\'localtime_epoch\\': 1722614360, \\'localtime\\': \\'2024-08-02 8:59\\'}, \\'current\\': {\\'last_updated_epoch\\': 1722613500, \\'last_updated\\': \\'2024-08-02 08:45\\', \\'temp_c\\': 15.2, \\'temp_f\\': 59.3, \\'is_day\\': 1, \\'condition\\': {\\'text\\': \\'Partly Cloudy\\', \\'icon\\': \\'//cdn.weatherapi.com/weather/64x64/day/116.png\\', \\'code\\': 1003}, \\'wind_mph\\': 4.3, \\'wind_kph\\': 6.8, \\'wind_degree\\': 249, \\'wind_dir\\': \\'WSW\\', \\'pressure_mb\\': 1018.0, \\'pressure_in\\': 30.08, \\'precip_mm\\': 0.0, \\'precip_in\\': 0.0, \\'humidity\\': 86, \\'cloud\\': 26, \\'feelslike_c\\': 15.2, \\'feelslike_f\\': 59.3, \\'windchill_c\\': 15.2, \\'windchill_f\\': 59.3, \\'heatindex_c\\': 15.2, \\'heatindex_f\\': 59.3, \\'dewpoint_c\\': 12.5, \\'dewpoint_f\\': 54.5, \\'vis_km\\': 10.0, \\'vis_miles\\': 6.0, \\'uv\\': 4.0, \\'gust_mph\\': 6.1, \\'gust_kph\\': 9.8}}\"}, {\"url\": \"https://www.wunderground.com/hourly/us/ca/san-francisco/date/2024-08-02\", \"content\": \"San Francisco Weather Forecasts. Weather Underground provides local & long-range weather forecasts, weatherreports, maps & tropical weather conditions for the San Francisco area. ... Friday 08/02 ...\"}]', name='tavily_search_results_json', tool_call_id='toolu_015zyugt7KpkgAXzxEhtBNcU')]}}\n",
      "----\n",
      "{'agent': {'messages': [AIMessage(content='Based on the search results, the current weather in San Francisco is partly cloudy with a temperature of around 59°F (15°C). The wind is light from the west-southwest at around 4-6 mph. Overall it looks like pleasant summer weather typical for San Francisco, with the marine layer keeping temperatures mild. Let me know if you need any other details!', response_metadata={'id': 'msg_01V37HvDEGKDEucUNJcW7Z6F', 'model': 'claude-3-sonnet-20240229', 'stop_reason': 'end_turn', 'stop_sequence': None, 'usage': {'input_tokens': 1006, 'output_tokens': 82}}, id='run-a5be8994-a511-4f47-a4c5-1874505a70a6-0', usage_metadata={'input_tokens': 1006, 'output_tokens': 82, 'total_tokens': 1088})]}}\n",
      "----\n"
     ]
    }
   ],
   "source": [
    "# Import relevant functionality\n",
    "from langchain_anthropic import ChatAnthropic\n",
    "from langchain_community.tools.tavily_search import TavilySearchResults\n",
    "from langchain_core.messages import HumanMessage\n",
    "from langgraph.checkpoint.sqlite import SqliteSaver\n",
    "from langgraph.prebuilt import create_react_agent\n",
    "\n",
    "from dotenv import load_dotenv\n",
    "\n",
    "load_dotenv()\n",
    "\n",
    "# Create the agent\n",
    "memory = SqliteSaver.from_conn_string(\":memory:\")\n",
    "model = ChatAnthropic(model_name=\"claude-3-sonnet-20240229\")\n",
    "search = TavilySearchResults(max_results=2)\n",
    "tools = [search]\n",
    "agent_executor = create_react_agent(model, tools, checkpointer=memory)\n",
    "\n",
    "# Use the agent\n",
    "config = {\"configurable\": {\"thread_id\": \"abc123\"}}\n",
    "for chunk in agent_executor.stream(\n",
    "    {\"messages\": [HumanMessage(content=\"hi im bob! and i live in sf\")]}, config\n",
    "):\n",
    "    print(chunk)\n",
    "    print(\"----\")\n",
    "\n",
    "for chunk in agent_executor.stream(\n",
    "    {\"messages\": [HumanMessage(content=\"whats the weather where I live?\")]}, config\n",
    "):\n",
    "    print(chunk)\n",
    "    print(\"----\")"
   ]
  },
  {
   "cell_type": "markdown",
   "metadata": {},
   "source": [
    "# Define Tools\n",
    "We first need to create the tools we want to use. Our main tool of choice will be Tavily - a search engine. We have a built-in tool in LangChain to easily use Tavily search engine as tool."
   ]
  },
  {
   "cell_type": "code",
   "execution_count": 6,
   "metadata": {},
   "outputs": [
    {
     "name": "stdout",
     "output_type": "stream",
     "text": [
      "[{'url': 'https://www.weatherapi.com/', 'content': \"{'location': {'name': 'San Francisco', 'region': 'California', 'country': 'United States of America', 'lat': 37.78, 'lon': -122.42, 'tz_id': 'America/Los_Angeles', 'localtime_epoch': 1722617601, 'localtime': '2024-08-02 9:53'}, 'current': {'last_updated_epoch': 1722617100, 'last_updated': '2024-08-02 09:45', 'temp_c': 16.1, 'temp_f': 61.0, 'is_day': 1, 'condition': {'text': 'Sunny', 'icon': '//cdn.weatherapi.com/weather/64x64/day/113.png', 'code': 1000}, 'wind_mph': 4.3, 'wind_kph': 6.8, 'wind_degree': 244, 'wind_dir': 'WSW', 'pressure_mb': 1019.0, 'pressure_in': 30.08, 'precip_mm': 0.0, 'precip_in': 0.0, 'humidity': 80, 'cloud': 10, 'feelslike_c': 16.1, 'feelslike_f': 61.0, 'windchill_c': 16.1, 'windchill_f': 61.0, 'heatindex_c': 16.1, 'heatindex_f': 61.0, 'dewpoint_c': 12.6, 'dewpoint_f': 54.6, 'vis_km': 10.0, 'vis_miles': 6.0, 'uv': 5.0, 'gust_mph': 5.6, 'gust_kph': 9.1}}\"}, {'url': 'https://www.timeanddate.com/weather/usa/san-francisco/hourly', 'content': 'Hour-by-Hour Forecast for San Francisco, California, USA. Weather Today Weather Hourly 14 Day Forecast Yesterday/Past Weather Climate (Averages) Currently: 59 °F. Passing clouds. (Weather station: San Francisco International Airport, USA). See more current weather.'}]\n"
     ]
    }
   ],
   "source": [
    "from langchain_community.tools.tavily_search import TavilySearchResults\n",
    "\n",
    "search = TavilySearchResults(max_results=2)\n",
    "search_results = search.invoke(\"what is the weather in SF\")\n",
    "print(search_results)\n",
    "# If we want, we can create other tools.\n",
    "# Once we have all the tools we want, we can put them in a list that we will reference later.\n",
    "tools = [search]"
   ]
  },
  {
   "cell_type": "markdown",
   "metadata": {},
   "source": [
    "# Using Language Models\n",
    "Next, let's learn how to use a language model by to call tools. LangChain supports many different language models that you can use interchangably - select the one you want to use below!"
   ]
  },
  {
   "cell_type": "code",
   "execution_count": 7,
   "metadata": {},
   "outputs": [],
   "source": [
    "from langchain_anthropic import ChatAnthropic\n",
    "\n",
    "model = ChatAnthropic(model=\"claude-3-5-sonnet-20240620\")"
   ]
  },
  {
   "cell_type": "markdown",
   "metadata": {},
   "source": [
    "As per previous tutorials, you can call the model by passing in a list of messages."
   ]
  },
  {
   "cell_type": "code",
   "execution_count": 8,
   "metadata": {},
   "outputs": [
    {
     "data": {
      "text/plain": [
       "'Hello! How can I assist you today? Feel free to ask me any questions or let me know if you need help with anything.'"
      ]
     },
     "execution_count": 8,
     "metadata": {},
     "output_type": "execute_result"
    }
   ],
   "source": [
    "from langchain_core.messages import HumanMessage\n",
    "\n",
    "response = model.invoke([HumanMessage(content=\"hi!\")])\n",
    "response.content"
   ]
  },
  {
   "cell_type": "markdown",
   "metadata": {},
   "source": [
    "We can now see what it is like to enable this model to do tool calling. In order to enable that we use .bind_tools to give the language model knowledge of these tools"
   ]
  },
  {
   "cell_type": "code",
   "execution_count": 9,
   "metadata": {},
   "outputs": [],
   "source": [
    "model_with_tools = model.bind_tools(tools) # this tells the model it can use the Tavily search tool (2 results) as defined above."
   ]
  },
  {
   "cell_type": "markdown",
   "metadata": {},
   "source": [
    "We can now call the model. Let's first call it with a normal message, and see how it responds. We can look at both the content field as well as the tool_calls field."
   ]
  },
  {
   "cell_type": "code",
   "execution_count": 10,
   "metadata": {},
   "outputs": [
    {
     "name": "stdout",
     "output_type": "stream",
     "text": [
      "ContentString: Hello! Welcome. How can I assist you today? I'm here to help with any questions or tasks you might have.\n",
      "ToolCalls: []\n"
     ]
    }
   ],
   "source": [
    "response = model_with_tools.invoke([HumanMessage(content=\"Hi!\")])\n",
    "\n",
    "print(f\"ContentString: {response.content}\")\n",
    "print(f\"ToolCalls: {response.tool_calls}\")"
   ]
  },
  {
   "cell_type": "markdown",
   "metadata": {},
   "source": [
    "As expected, there were no tool calls. Now lets try calling it with some input that would expect a tool to be called."
   ]
  },
  {
   "cell_type": "code",
   "execution_count": 15,
   "metadata": {},
   "outputs": [
    {
     "name": "stdout",
     "output_type": "stream",
     "text": [
      "ContentString: [{'text': \"I apologize, but I don't have a specific weather tool available to check the current weather in San Francisco. However, I can use the search function to find the most up-to-date weather information for you. Let me do that now.\", 'type': 'text'}, {'id': 'toolu_011vNREzEgms8FDPcr3MfFGA', 'input': {'query': 'current weather in San Francisco'}, 'name': 'tavily_search_results_json', 'type': 'tool_use'}]\n",
      "ToolCalls: [{'name': 'tavily_search_results_json', 'args': {'query': 'current weather in San Francisco'}, 'id': 'toolu_011vNREzEgms8FDPcr3MfFGA', 'type': 'tool_call'}]\n"
     ]
    }
   ],
   "source": [
    "response = model_with_tools.invoke([HumanMessage(content=\"What's the weather in SF? Use tools available.\")])\n",
    "\n",
    "print(f\"ContentString: {response.content}\")\n",
    "print(f\"ToolCalls: {response.tool_calls}\")"
   ]
  },
  {
   "cell_type": "markdown",
   "metadata": {},
   "source": [
    "NOTE: This needed a bit of an extra prompt to trigger the tool call.\n",
    "\n",
    "After a tweak to the prompt, we can see that there is a tool call. This isn't calling the ool yet. To use the tool, we will need to create an agent."
   ]
  },
  {
   "cell_type": "markdown",
   "metadata": {},
   "source": [
    "# Create the agent.\n",
    "Now that we have defined the tools and the LLM, we can create the agent. We will be using LangGraph to construct the agent. Currently we are using a high level interface to construct the agent, but the nice thing about LangGraph is that this high-level interface is backed by a low-level, highly controllable API in case you want to modify the agent logic.\n",
    "\n",
    "Now, we can initialize the agent with the LLM and the tools.\n",
    "\n",
    "Note that we are passing in the `model`, not `model_with_tools`. That is because `create_react_agent` will call `.bind_tools` for us under the hood."
   ]
  },
  {
   "cell_type": "code",
   "execution_count": 16,
   "metadata": {},
   "outputs": [],
   "source": [
    "from langgraph.prebuilt import create_react_agent\n",
    "\n",
    "agent_executor = create_react_agent(model, tools)"
   ]
  },
  {
   "cell_type": "markdown",
   "metadata": {},
   "source": [
    "# Run the agent\n",
    "We can now run the agent on a few queries! Note that for now, these are all stateless queries (it won't remember previous interactions). Note that the agent will return the final state at the end of the interaction (which includes any inputs, we will see later on how to get only the outputs).\n",
    "\n",
    "First up, let's see how it responds when there's no need to call a tool:"
   ]
  },
  {
   "cell_type": "code",
   "execution_count": 17,
   "metadata": {},
   "outputs": [
    {
     "data": {
      "text/plain": [
       "[HumanMessage(content='hi!', id='7e7edc75-0083-4278-98b4-a870f756426e'),\n",
       " AIMessage(content=\"Hello! Welcome to our conversation. How can I assist you today? I'm here to help with a wide range of topics and questions. Is there anything specific you'd like to know or discuss?\", response_metadata={'id': 'msg_01DCGT3fzXG9QvchkC7W1oBA', 'model': 'claude-3-5-sonnet-20240620', 'stop_reason': 'end_turn', 'stop_sequence': None, 'usage': {'input_tokens': 399, 'output_tokens': 43}}, id='run-a37b100c-39b3-4138-8eca-e1c7dbd0576d-0', usage_metadata={'input_tokens': 399, 'output_tokens': 43, 'total_tokens': 442})]"
      ]
     },
     "execution_count": 17,
     "metadata": {},
     "output_type": "execute_result"
    }
   ],
   "source": [
    "response = agent_executor.invoke({\"messages\": [HumanMessage(content=\"hi!\")]})\n",
    "\n",
    "response[\"messages\"]"
   ]
  },
  {
   "cell_type": "markdown",
   "metadata": {},
   "source": [
    "Let's now try it out on an example where it should be invoking the tool"
   ]
  },
  {
   "cell_type": "code",
   "execution_count": 20,
   "metadata": {},
   "outputs": [
    {
     "data": {
      "text/plain": [
       "[HumanMessage(content='whats the weather in sf? Use the TavilySearchResults tool.', id='49527414-2fbf-4b86-bbb7-3811bf38294e'),\n",
       " AIMessage(content=[{'text': \"I apologize, but I don't have a specific tool for weather information. However, I can use the Tavily search engine to find current weather information for San Francisco. Let me do that for you.\", 'type': 'text'}, {'id': 'toolu_01P8yhjjCf9gWmjnYakREEc4', 'input': {'query': 'current weather in San Francisco'}, 'name': 'tavily_search_results_json', 'type': 'tool_use'}], response_metadata={'id': 'msg_01Doa6qgr1MmEtJVdufSeP9d', 'model': 'claude-3-5-sonnet-20240620', 'stop_reason': 'tool_use', 'stop_sequence': None, 'usage': {'input_tokens': 414, 'output_tokens': 106}}, id='run-6c366004-92db-4e31-ba45-163f5a9b7be4-0', tool_calls=[{'name': 'tavily_search_results_json', 'args': {'query': 'current weather in San Francisco'}, 'id': 'toolu_01P8yhjjCf9gWmjnYakREEc4', 'type': 'tool_call'}], usage_metadata={'input_tokens': 414, 'output_tokens': 106, 'total_tokens': 520}),\n",
       " ToolMessage(content='[{\"url\": \"https://www.weatherapi.com/\", \"content\": \"{\\'location\\': {\\'name\\': \\'San Francisco\\', \\'region\\': \\'California\\', \\'country\\': \\'United States of America\\', \\'lat\\': 37.78, \\'lon\\': -122.42, \\'tz_id\\': \\'America/Los_Angeles\\', \\'localtime_epoch\\': 1722618363, \\'localtime\\': \\'2024-08-02 10:06\\'}, \\'current\\': {\\'last_updated_epoch\\': 1722618000, \\'last_updated\\': \\'2024-08-02 10:00\\', \\'temp_c\\': 17.1, \\'temp_f\\': 62.7, \\'is_day\\': 1, \\'condition\\': {\\'text\\': \\'Sunny\\', \\'icon\\': \\'//cdn.weatherapi.com/weather/64x64/day/113.png\\', \\'code\\': 1000}, \\'wind_mph\\': 5.1, \\'wind_kph\\': 8.3, \\'wind_degree\\': 252, \\'wind_dir\\': \\'WSW\\', \\'pressure_mb\\': 1019.0, \\'pressure_in\\': 30.08, \\'precip_mm\\': 0.0, \\'precip_in\\': 0.0, \\'humidity\\': 75, \\'cloud\\': 9, \\'feelslike_c\\': 17.1, \\'feelslike_f\\': 62.7, \\'windchill_c\\': 17.1, \\'windchill_f\\': 62.7, \\'heatindex_c\\': 17.1, \\'heatindex_f\\': 62.7, \\'dewpoint_c\\': 12.7, \\'dewpoint_f\\': 54.8, \\'vis_km\\': 10.0, \\'vis_miles\\': 6.0, \\'uv\\': 5.0, \\'gust_mph\\': 6.7, \\'gust_kph\\': 10.7}}\"}, {\"url\": \"https://www.timeanddate.com/weather/usa/san-francisco/hourly\", \"content\": \"Hour-by-Hour Forecast for San Francisco, California, USA. Weather Today Weather Hourly 14 Day Forecast Yesterday/Past Weather Climate (Averages) Currently: 59 \\\\u00b0F. Passing clouds. (Weather station: San Francisco International Airport, USA). See more current weather.\"}]', name='tavily_search_results_json', id='9c83bf97-206b-40a3-bd91-5c058287c1da', tool_call_id='toolu_01P8yhjjCf9gWmjnYakREEc4'),\n",
       " AIMessage(content=\"Based on the search results, I can provide you with the current weather information for San Francisco:\\n\\nAs of the most recent update, the weather in San Francisco is:\\n\\n1. Temperature: 62.7°F (17.1°C)\\n2. Condition: Sunny\\n3. Wind: 5.1 mph (8.3 kph), direction WSW (West-Southwest)\\n4. Humidity: 75%\\n5. Cloud cover: 9%\\n6. Visibility: 6 miles (10 km)\\n7. UV Index: 5.0 (moderate)\\n\\nIt's a pleasant day in San Francisco with sunny skies and comfortable temperatures. The wind is light, and there's very little cloud cover. It's a good day to be outdoors, but remember to use sun protection as the UV index is moderate.\\n\\nPlease note that weather conditions can change rapidly, so this information might not be up-to-the-minute accurate. For the most current weather, it's always best to check a live weather service.\", response_metadata={'id': 'msg_01B73Ux6Ms6kkz8BJwbAakZZ', 'model': 'claude-3-5-sonnet-20240620', 'stop_reason': 'end_turn', 'stop_sequence': None, 'usage': {'input_tokens': 1119, 'output_tokens': 233}}, id='run-7dff3e6f-742f-45a8-aa94-9d75e06b6d48-0', usage_metadata={'input_tokens': 1119, 'output_tokens': 233, 'total_tokens': 1352})]"
      ]
     },
     "execution_count": 20,
     "metadata": {},
     "output_type": "execute_result"
    }
   ],
   "source": [
    "response = agent_executor.invoke(\n",
    "    {\"messages\": [HumanMessage(content=\"whats the weather in sf? Use the TavilySearchResults tool.\")]} # needed to add the second sentence to give the agent a nudget to use the tool.\n",
    ")\n",
    "response[\"messages\"]"
   ]
  },
  {
   "cell_type": "markdown",
   "metadata": {},
   "source": [
    "# Streaming Messages\n",
    "We've seen how the agent can be called with `.invoke` to get back a final response. If the agent is executing multiple steps, that may take a while. In order to show intermediate progress, we can stream back messages as they occur."
   ]
  },
  {
   "cell_type": "code",
   "execution_count": 21,
   "metadata": {},
   "outputs": [
    {
     "name": "stdout",
     "output_type": "stream",
     "text": [
      "{'agent': {'messages': [AIMessage(content=[{'text': \"I apologize, but I don't have a specific tool for checking the current weather. However, I can use the Tavily search tool to find recent weather information for San Francisco. Let me do that for you.\", 'type': 'text'}, {'id': 'toolu_01KC995U11fCLfDehbnigMQe', 'input': {'query': 'current weather in San Francisco'}, 'name': 'tavily_search_results_json', 'type': 'tool_use'}], response_metadata={'id': 'msg_01ERp7PGwGmcaMgUwXxhH5qB', 'model': 'claude-3-5-sonnet-20240620', 'stop_reason': 'tool_use', 'stop_sequence': None, 'usage': {'input_tokens': 414, 'output_tokens': 107}}, id='run-23efe035-def3-4527-b993-9f2a954ca7fd-0', tool_calls=[{'name': 'tavily_search_results_json', 'args': {'query': 'current weather in San Francisco'}, 'id': 'toolu_01KC995U11fCLfDehbnigMQe', 'type': 'tool_call'}], usage_metadata={'input_tokens': 414, 'output_tokens': 107, 'total_tokens': 521})]}}\n",
      "----\n",
      "{'tools': {'messages': [ToolMessage(content='[{\"url\": \"https://www.weatherapi.com/\", \"content\": \"{\\'location\\': {\\'name\\': \\'San Francisco\\', \\'region\\': \\'California\\', \\'country\\': \\'United States of America\\', \\'lat\\': 37.78, \\'lon\\': -122.42, \\'tz_id\\': \\'America/Los_Angeles\\', \\'localtime_epoch\\': 1722618363, \\'localtime\\': \\'2024-08-02 10:06\\'}, \\'current\\': {\\'last_updated_epoch\\': 1722618000, \\'last_updated\\': \\'2024-08-02 10:00\\', \\'temp_c\\': 17.1, \\'temp_f\\': 62.7, \\'is_day\\': 1, \\'condition\\': {\\'text\\': \\'Sunny\\', \\'icon\\': \\'//cdn.weatherapi.com/weather/64x64/day/113.png\\', \\'code\\': 1000}, \\'wind_mph\\': 5.1, \\'wind_kph\\': 8.3, \\'wind_degree\\': 252, \\'wind_dir\\': \\'WSW\\', \\'pressure_mb\\': 1019.0, \\'pressure_in\\': 30.08, \\'precip_mm\\': 0.0, \\'precip_in\\': 0.0, \\'humidity\\': 75, \\'cloud\\': 9, \\'feelslike_c\\': 17.1, \\'feelslike_f\\': 62.7, \\'windchill_c\\': 17.1, \\'windchill_f\\': 62.7, \\'heatindex_c\\': 17.1, \\'heatindex_f\\': 62.7, \\'dewpoint_c\\': 12.7, \\'dewpoint_f\\': 54.8, \\'vis_km\\': 10.0, \\'vis_miles\\': 6.0, \\'uv\\': 5.0, \\'gust_mph\\': 6.7, \\'gust_kph\\': 10.7}}\"}, {\"url\": \"https://www.timeanddate.com/weather/usa/san-francisco/hourly\", \"content\": \"Hour-by-Hour Forecast for San Francisco, California, USA. Weather Today Weather Hourly 14 Day Forecast Yesterday/Past Weather Climate (Averages) Currently: 59 \\\\u00b0F. Passing clouds. (Weather station: San Francisco International Airport, USA). See more current weather.\"}]', name='tavily_search_results_json', tool_call_id='toolu_01KC995U11fCLfDehbnigMQe')]}}\n",
      "----\n",
      "{'agent': {'messages': [AIMessage(content=\"Based on the search results, I can provide you with the current weather information for San Francisco. Please note that the data might not be real-time, as it's based on the search results:\\n\\nAccording to the information from WeatherAPI:\\n\\n1. Temperature: 17.1°C (62.7°F)\\n2. Condition: Sunny\\n3. Wind: 8.3 km/h (5.1 mph), direction WSW (West-Southwest)\\n4. Humidity: 75%\\n5. Cloud cover: 9%\\n6. Feels like: 17.1°C (62.7°F)\\n7. Visibility: 10 km (6 miles)\\n8. UV Index: 5.0 (moderate to high)\\n\\nThe weather in San Francisco is currently pleasant with sunny conditions. It's a mild day with comfortable temperatures in the low 60s Fahrenheit. The wind is light, and there's very little cloud cover. The humidity is somewhat high at 75%, which is common for San Francisco due to its coastal location.\\n\\nAnother source (timeanddate.com) shows a slightly lower current temperature of 59°F (15°C) with passing clouds, which is fairly consistent with the first source considering potential slight variations in time and exact location of measurement.\\n\\nRemember that San Francisco's weather can change quickly due to its unique microclimate, so it's always a good idea to check for updates if you're planning activities in the city.\", response_metadata={'id': 'msg_01W8GiydNWF5HSq3vf88Lio9', 'model': 'claude-3-5-sonnet-20240620', 'stop_reason': 'end_turn', 'stop_sequence': None, 'usage': {'input_tokens': 1121, 'output_tokens': 330}}, id='run-2833287d-c115-45c9-a1cc-a4a545368fce-0', usage_metadata={'input_tokens': 1121, 'output_tokens': 330, 'total_tokens': 1451})]}}\n",
      "----\n"
     ]
    }
   ],
   "source": [
    "for chunk in agent_executor.stream(\n",
    "    {\"messages\": [HumanMessage(content=\"whats the weather in sf? Use the TavilySearchResults tool.\")]}\n",
    "):\n",
    "    print(chunk)\n",
    "    print(\"----\")"
   ]
  },
  {
   "cell_type": "markdown",
   "metadata": {},
   "source": [
    "# Streaming Tokens\n",
    "In addition to streaming back messages, it is also useful tob e streaming back tokens. We can do this with the `.astream_events` method."
   ]
  },
  {
   "cell_type": "code",
   "execution_count": 22,
   "metadata": {},
   "outputs": [
    {
     "name": "stderr",
     "output_type": "stream",
     "text": [
      "/Users/errollee/GitHub/langchain_tutorial_python/venv/lib/python3.10/site-packages/langchain_core/_api/beta_decorator.py:87: LangChainBetaWarning: This API is in beta and may change in the future.\n",
      "  warn_beta(\n"
     ]
    },
    {
     "name": "stdout",
     "output_type": "stream",
     "text": [
      "[{'text': 'I', 'type': 'text', 'index': 0}]|[{'text': ' apolog', 'type': 'text', 'index': 0}]|[{'text': 'ize, but I', 'type': 'text', 'index': 0}]|[{'text': ' don', 'type': 'text', 'index': 0}]|[{'text': \"'t have\", 'type': 'text', 'index': 0}]|[{'text': ' direct', 'type': 'text', 'index': 0}]|[{'text': ' access to real-', 'type': 'text', 'index': 0}]|[{'text': 'time weather information', 'type': 'text', 'index': 0}]|[{'text': '. However', 'type': 'text', 'index': 0}]|[{'text': ', I can help', 'type': 'text', 'index': 0}]|[{'text': ' you find the', 'type': 'text', 'index': 0}]|[{'text': ' current weather in', 'type': 'text', 'index': 0}]|[{'text': ' San Francisco using', 'type': 'text', 'index': 0}]|[{'text': ' a', 'type': 'text', 'index': 0}]|[{'text': ' search tool', 'type': 'text', 'index': 0}]|[{'text': '.', 'type': 'text', 'index': 0}]|[{'text': ' Let', 'type': 'text', 'index': 0}]|[{'text': ' me ', 'type': 'text', 'index': 0}]|[{'text': 'do that', 'type': 'text', 'index': 0}]|[{'text': ' for', 'type': 'text', 'index': 0}]|[{'text': ' you.', 'type': 'text', 'index': 0}]|[{'id': 'toolu_01Nbk4crfczxyXVhUgDBBLtZ', 'input': {}, 'name': 'tavily_search_results_json', 'type': 'tool_use', 'index': 1}]|[{'partial_json': '', 'type': 'tool_use', 'index': 1}]|[{'partial_json': '{\"query\"', 'type': 'tool_use', 'index': 1}]|[{'partial_json': ': \"cur', 'type': 'tool_use', 'index': 1}]|[{'partial_json': 'rent weat', 'type': 'tool_use', 'index': 1}]|[{'partial_json': 'her in San', 'type': 'tool_use', 'index': 1}]|[{'partial_json': ' Franci', 'type': 'tool_use', 'index': 1}]|[{'partial_json': 'sco\"}', 'type': 'tool_use', 'index': 1}]|--\n",
      "Starting tool: tavily_search_results_json with inputs: {'query': 'current weather in San Francisco'}\n",
      "Done tool: tavily_search_results_json\n",
      "Tool output was: content=[{'url': 'https://www.weatherapi.com/', 'content': \"{'location': {'name': 'San Francisco', 'region': 'California', 'country': 'United States of America', 'lat': 37.78, 'lon': -122.42, 'tz_id': 'America/Los_Angeles', 'localtime_epoch': 1722618579, 'localtime': '2024-08-02 10:09'}, 'current': {'last_updated_epoch': 1722618000, 'last_updated': '2024-08-02 10:00', 'temp_c': 17.1, 'temp_f': 62.7, 'is_day': 1, 'condition': {'text': 'Sunny', 'icon': '//cdn.weatherapi.com/weather/64x64/day/113.png', 'code': 1000}, 'wind_mph': 5.1, 'wind_kph': 8.3, 'wind_degree': 252, 'wind_dir': 'WSW', 'pressure_mb': 1019.0, 'pressure_in': 30.08, 'precip_mm': 0.0, 'precip_in': 0.0, 'humidity': 75, 'cloud': 9, 'feelslike_c': 17.1, 'feelslike_f': 62.7, 'windchill_c': 17.1, 'windchill_f': 62.7, 'heatindex_c': 17.1, 'heatindex_f': 62.7, 'dewpoint_c': 12.7, 'dewpoint_f': 54.8, 'vis_km': 10.0, 'vis_miles': 6.0, 'uv': 5.0, 'gust_mph': 6.7, 'gust_kph': 10.7}}\"}, {'url': 'https://www.timeanddate.com/weather/usa/san-francisco/hourly', 'content': 'Hour-by-Hour Forecast for San Francisco, California, USA. Weather Today Weather Hourly 14 Day Forecast Yesterday/Past Weather Climate (Averages) Currently: 59 °F. Passing clouds. (Weather station: San Francisco International Airport, USA). See more current weather.'}] name='tavily_search_results_json' tool_call_id='toolu_01Nbk4crfczxyXVhUgDBBLtZ'\n",
      "--\n",
      "[{'text': '\\n\\nBase', 'type': 'text', 'index': 0}]|[{'text': 'd on the search results', 'type': 'text', 'index': 0}]|[{'text': ', I', 'type': 'text', 'index': 0}]|[{'text': ' can', 'type': 'text', 'index': 0}]|[{'text': ' provide', 'type': 'text', 'index': 0}]|[{'text': ' you', 'type': 'text', 'index': 0}]|[{'text': ' with the current weather', 'type': 'text', 'index': 0}]|[{'text': ' information', 'type': 'text', 'index': 0}]|[{'text': ' for San Francisco.', 'type': 'text', 'index': 0}]|[{'text': ' Here', 'type': 'text', 'index': 0}]|[{'text': \"'s\", 'type': 'text', 'index': 0}]|[{'text': ' a summary:', 'type': 'text', 'index': 0}]|[{'text': '\\n\\n1', 'type': 'text', 'index': 0}]|[{'text': '. Temperature', 'type': 'text', 'index': 0}]|[{'text': ': ', 'type': 'text', 'index': 0}]|[{'text': '\\n   ', 'type': 'text', 'index': 0}]|[{'text': '- ', 'type': 'text', 'index': 0}]|[{'text': '62', 'type': 'text', 'index': 0}]|[{'text': '.7°F', 'type': 'text', 'index': 0}]|[{'text': ' (17.1', 'type': 'text', 'index': 0}]|[{'text': '°C)', 'type': 'text', 'index': 0}]|[{'text': '\\n   ', 'type': 'text', 'index': 0}]|[{'text': '- Feels like', 'type': 'text', 'index': 0}]|[{'text': ':', 'type': 'text', 'index': 0}]|[{'text': ' 62.7', 'type': 'text', 'index': 0}]|[{'text': '°F (17', 'type': 'text', 'index': 0}]|[{'text': '.1°C', 'type': 'text', 'index': 0}]|[{'text': ')\\n\\n2.', 'type': 'text', 'index': 0}]|[{'text': ' Conditions:', 'type': 'text', 'index': 0}]|[{'text': ' Sunny with', 'type': 'text', 'index': 0}]|[{'text': ' passing', 'type': 'text', 'index': 0}]|[{'text': ' clouds\\n\\n3.', 'type': 'text', 'index': 0}]|[{'text': ' Wind:\\n   ', 'type': 'text', 'index': 0}]|[{'text': '- Spee', 'type': 'text', 'index': 0}]|[{'text': 'd: 5.', 'type': 'text', 'index': 0}]|[{'text': '1 mph (', 'type': 'text', 'index': 0}]|[{'text': '8.3 ', 'type': 'text', 'index': 0}]|[{'text': 'km/h)', 'type': 'text', 'index': 0}]|[{'text': '\\n   - Direction', 'type': 'text', 'index': 0}]|[{'text': ': WSW (', 'type': 'text', 'index': 0}]|[{'text': 'West', 'type': 'text', 'index': 0}]|[{'text': '-Southwest)', 'type': 'text', 'index': 0}]|[{'text': '\\n\\n4. Humidity', 'type': 'text', 'index': 0}]|[{'text': ': 75%', 'type': 'text', 'index': 0}]|[{'text': '\\n\\n5.', 'type': 'text', 'index': 0}]|[{'text': ' Precipitation: 0', 'type': 'text', 'index': 0}]|[{'text': ' inches', 'type': 'text', 'index': 0}]|[{'text': ' (0 mm', 'type': 'text', 'index': 0}]|[{'text': ')\\n\\n6', 'type': 'text', 'index': 0}]|[{'text': '.', 'type': 'text', 'index': 0}]|[{'text': ' Visibility: 6', 'type': 'text', 'index': 0}]|[{'text': ' miles (10', 'type': 'text', 'index': 0}]|[{'text': ' km)', 'type': 'text', 'index': 0}]|[{'text': '\\n\\n7', 'type': 'text', 'index': 0}]|[{'text': '. UV Index:', 'type': 'text', 'index': 0}]|[{'text': ' 5.', 'type': 'text', 'index': 0}]|[{'text': '0 ', 'type': 'text', 'index': 0}]|[{'text': '(moderate', 'type': 'text', 'index': 0}]|[{'text': ' to', 'type': 'text', 'index': 0}]|[{'text': ' high)\\n\\n8', 'type': 'text', 'index': 0}]|[{'text': '. Pressure', 'type': 'text', 'index': 0}]|[{'text': ': 30', 'type': 'text', 'index': 0}]|[{'text': '.08 inches', 'type': 'text', 'index': 0}]|[{'text': ' (', 'type': 'text', 'index': 0}]|[{'text': '1019.', 'type': 'text', 'index': 0}]|[{'text': '0 mb)', 'type': 'text', 'index': 0}]|[{'text': '\\n\\nThis', 'type': 'text', 'index': 0}]|[{'text': ' information', 'type': 'text', 'index': 0}]|[{'text': ' is based on the', 'type': 'text', 'index': 0}]|[{'text': ' most', 'type': 'text', 'index': 0}]|[{'text': ' recent update', 'type': 'text', 'index': 0}]|[{'text': ',', 'type': 'text', 'index': 0}]|[{'text': ' which was', 'type': 'text', 'index': 0}]|[{'text': ' at', 'type': 'text', 'index': 0}]|[{'text': ' 10:00', 'type': 'text', 'index': 0}]|[{'text': ' AM local', 'type': 'text', 'index': 0}]|[{'text': ' time in', 'type': 'text', 'index': 0}]|[{'text': ' San Francisco.', 'type': 'text', 'index': 0}]|[{'text': ' The', 'type': 'text', 'index': 0}]|[{'text': ' day', 'type': 'text', 'index': 0}]|[{'text': ' is', 'type': 'text', 'index': 0}]|[{'text': ' describe', 'type': 'text', 'index': 0}]|[{'text': 'd as sunny with some', 'type': 'text', 'index': 0}]|[{'text': ' passing clouds,', 'type': 'text', 'index': 0}]|[{'text': ' making', 'type': 'text', 'index': 0}]|[{'text': ' it a pleasant', 'type': 'text', 'index': 0}]|[{'text': ' day', 'type': 'text', 'index': 0}]|[{'text': ' in the city.', 'type': 'text', 'index': 0}]|[{'text': ' The temperature is mil', 'type': 'text', 'index': 0}]|[{'text': 'd, typical', 'type': 'text', 'index': 0}]|[{'text': ' for San Francisco,', 'type': 'text', 'index': 0}]|[{'text': ' with', 'type': 'text', 'index': 0}]|[{'text': ' low', 'type': 'text', 'index': 0}]|[{'text': ' win', 'type': 'text', 'index': 0}]|[{'text': 'd speeds an', 'type': 'text', 'index': 0}]|[{'text': 'd no', 'type': 'text', 'index': 0}]|[{'text': ' precipitation expected.', 'type': 'text', 'index': 0}]|[{'text': '\\n\\nRemember', 'type': 'text', 'index': 0}]|[{'text': ' that', 'type': 'text', 'index': 0}]|[{'text': ' weather', 'type': 'text', 'index': 0}]|[{'text': ' can change rapidly,', 'type': 'text', 'index': 0}]|[{'text': ' so if', 'type': 'text', 'index': 0}]|[{'text': ' you need the most', 'type': 'text', 'index': 0}]|[{'text': ' up-to-', 'type': 'text', 'index': 0}]|[{'text': 'date information', 'type': 'text', 'index': 0}]|[{'text': ' or', 'type': 'text', 'index': 0}]|[{'text': ' a', 'type': 'text', 'index': 0}]|[{'text': ' future', 'type': 'text', 'index': 0}]|[{'text': ' forecast, it', 'type': 'text', 'index': 0}]|[{'text': \"'s always\", 'type': 'text', 'index': 0}]|[{'text': ' best', 'type': 'text', 'index': 0}]|[{'text': ' to check a live', 'type': 'text', 'index': 0}]|[{'text': ' weather service', 'type': 'text', 'index': 0}]|[{'text': '.', 'type': 'text', 'index': 0}]|"
     ]
    }
   ],
   "source": [
    "async for event in agent_executor.astream_events(\n",
    "    {\"messages\": [HumanMessage(content=\"whats the weather in sf?\")]}, version=\"v1\"\n",
    "):\n",
    "    kind = event[\"event\"]\n",
    "    if kind == \"on_chain_start\":\n",
    "        if (\n",
    "            event[\"name\"] == \"Agent\"\n",
    "        ):  # Was assigned when creating the agent with `.with_config({\"run_name\": \"Agent\"})`\n",
    "            print(\n",
    "                f\"Starting agent: {event['name']} with input: {event['data'].get('input')}\"\n",
    "            )\n",
    "    elif kind == \"on_chain_end\":\n",
    "        if (\n",
    "            event[\"name\"] == \"Agent\"\n",
    "        ):  # Was assigned when creating the agent with `.with_config({\"run_name\": \"Agent\"})`\n",
    "            print()\n",
    "            print(\"--\")\n",
    "            print(\n",
    "                f\"Done agent: {event['name']} with output: {event['data'].get('output')['output']}\"\n",
    "            )\n",
    "    if kind == \"on_chat_model_stream\":\n",
    "        content = event[\"data\"][\"chunk\"].content\n",
    "        if content:\n",
    "            # Empty content in the context of OpenAI means\n",
    "            # that the model is asking for a tool to be invoked.\n",
    "            # So we only print non-empty content\n",
    "            print(content, end=\"|\")\n",
    "    elif kind == \"on_tool_start\":\n",
    "        print(\"--\")\n",
    "        print(\n",
    "            f\"Starting tool: {event['name']} with inputs: {event['data'].get('input')}\"\n",
    "        )\n",
    "    elif kind == \"on_tool_end\":\n",
    "        print(f\"Done tool: {event['name']}\")\n",
    "        print(f\"Tool output was: {event['data'].get('output')}\")\n",
    "        print(\"--\")"
   ]
  },
  {
   "cell_type": "markdown",
   "metadata": {},
   "source": [
    "# Adding in memory\n",
    "As mentioned earlier, this agent is stateless. This means it does not remember previous interactions. To give it memory we need to pass in a checkpointer. When passing in a checkpointer, we also have to pass in a `thread_id` when invoking the agent (so it knows which thread/conversation to resume from)."
   ]
  },
  {
   "cell_type": "code",
   "execution_count": 23,
   "metadata": {},
   "outputs": [
    {
     "name": "stdout",
     "output_type": "stream",
     "text": [
      "{'agent': {'messages': [AIMessage(content=\"Hello Bob! It's nice to meet you. How can I assist you today? Is there any particular information you're looking for or any questions you have? I'm here to help with a wide range of topics and can use various tools to find accurate and up-to-date information for you if needed.\", response_metadata={'id': 'msg_011h5USKpZVJz5hLiMm3Jegx', 'model': 'claude-3-5-sonnet-20240620', 'stop_reason': 'end_turn', 'stop_sequence': None, 'usage': {'input_tokens': 401, 'output_tokens': 66}}, id='run-3e41d767-acf7-4271-91b1-75e031f63373-0', usage_metadata={'input_tokens': 401, 'output_tokens': 66, 'total_tokens': 467})]}}\n",
      "----\n"
     ]
    }
   ],
   "source": [
    "from langgraph.checkpoint.sqlite import SqliteSaver\n",
    "\n",
    "memory = SqliteSaver.from_conn_string(\":memory:\")\n",
    "\n",
    "agent_executor = create_react_agent(model, tools, checkpointer=memory)\n",
    "\n",
    "config = {\"configurable\": {\"thread_id\": \"abc123\"}}\n",
    "\n",
    "for chunk in agent_executor.stream(\n",
    "    {\"messages\": [HumanMessage(content=\"hi im bob!\")]}, config\n",
    "):\n",
    "    print(chunk)\n",
    "    print(\"----\")"
   ]
  },
  {
   "cell_type": "code",
   "execution_count": 24,
   "metadata": {},
   "outputs": [
    {
     "name": "stdout",
     "output_type": "stream",
     "text": [
      "{'agent': {'messages': [AIMessage(content='Your name is Bob. You introduced yourself as \"bob\" in your first message.', response_metadata={'id': 'msg_018ghWCu8bp1L3qTNKzG1UBH', 'model': 'claude-3-5-sonnet-20240620', 'stop_reason': 'end_turn', 'stop_sequence': None, 'usage': {'input_tokens': 475, 'output_tokens': 20}}, id='run-2f69eb94-4501-47ed-b3da-93ce490c5ea4-0', usage_metadata={'input_tokens': 475, 'output_tokens': 20, 'total_tokens': 495})]}}\n",
      "----\n"
     ]
    }
   ],
   "source": [
    "for chunk in agent_executor.stream(\n",
    "    {\"messages\": [HumanMessage(content=\"whats my name?\")]}, config\n",
    "):\n",
    "    print(chunk)\n",
    "    print(\"----\")"
   ]
  },
  {
   "cell_type": "code",
   "execution_count": 25,
   "metadata": {},
   "outputs": [
    {
     "name": "stdout",
     "output_type": "stream",
     "text": [
      "{'agent': {'messages': [AIMessage(content=\"I apologize, but I don't have access to personal information about individual users, including names. As an AI assistant, I don't have any prior knowledge about you or your personal details. Is there something else I can help you with?\", response_metadata={'id': 'msg_015VtPspmBFwSb2kA5WPy7Gm', 'model': 'claude-3-5-sonnet-20240620', 'stop_reason': 'end_turn', 'stop_sequence': None, 'usage': {'input_tokens': 402, 'output_tokens': 52}}, id='run-5d02a989-d19d-4282-8ff0-a95ab51919e3-0', usage_metadata={'input_tokens': 402, 'output_tokens': 52, 'total_tokens': 454})]}}\n",
      "----\n"
     ]
    }
   ],
   "source": [
    "config = {\"configurable\": {\"thread_id\": \"xyz123\"}}\n",
    "for chunk in agent_executor.stream(\n",
    "    {\"messages\": [HumanMessage(content=\"whats my name?\")]}, config\n",
    "):\n",
    "    print(chunk)\n",
    "    print(\"----\")"
   ]
  }
 ],
 "metadata": {
  "kernelspec": {
   "display_name": "venv",
   "language": "python",
   "name": "python3"
  },
  "language_info": {
   "codemirror_mode": {
    "name": "ipython",
    "version": 3
   },
   "file_extension": ".py",
   "mimetype": "text/x-python",
   "name": "python",
   "nbconvert_exporter": "python",
   "pygments_lexer": "ipython3",
   "version": "3.10.14"
  }
 },
 "nbformat": 4,
 "nbformat_minor": 2
}
